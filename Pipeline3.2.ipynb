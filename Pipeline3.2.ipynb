{
 "cells": [
  {
   "cell_type": "markdown",
   "metadata": {},
   "source": [
    "# Pipeline 3.2: \n",
    "#### _Min Max -> Normalization -> 3 STD_\n",
    "_Locked Up_ - Bridget Weill - Fairfield University - MSBA Capstone Project\n",
    "\n",
    "------------------"
   ]
  },
  {
   "cell_type": "markdown",
   "metadata": {},
   "source": [
    "### Import Data & Packages"
   ]
  },
  {
   "cell_type": "code",
   "execution_count": 1,
   "metadata": {},
   "outputs": [],
   "source": [
    "# import required package for data handling\n",
    "import pandas as pd\n",
    "import numpy as np\n",
    "import seaborn as sns\n",
    "import matplotlib as plt\n",
    "import matplotlib.pyplot as plt\n",
    "from pandas import DataFrame\n",
    "%matplotlib inline\n",
    "\n",
    "\n",
    "# import required packages for evaluating models\n",
    "from sklearn import metrics\n",
    "from sklearn.metrics import confusion_matrix\n",
    "from sklearn.preprocessing import StandardScaler\n",
    "\n",
    "from scipy.stats import boxcox\n",
    "from scipy import stats"
   ]
  },
  {
   "cell_type": "code",
   "execution_count": 2,
   "metadata": {},
   "outputs": [],
   "source": [
    "data_cat_enc = pd.read_csv('data_cat_enc.csv')"
   ]
  },
  {
   "cell_type": "code",
   "execution_count": 3,
   "metadata": {},
   "outputs": [],
   "source": [
    "datacont = pd.read_csv('datacont.csv')"
   ]
  },
  {
   "cell_type": "code",
   "execution_count": 4,
   "metadata": {},
   "outputs": [],
   "source": [
    "target = pd.read_csv('target.csv')"
   ]
  },
  {
   "cell_type": "markdown",
   "metadata": {},
   "source": [
    "### __Min Max__\n",
    "\n",
    "Min Max is one of the most common ways to normalize.  For every feature, the minimum value of that feature gets transformed into a 0, the maximum value gets transformed into a 1, and every other value gets transformed into a decimal between 0 and 1.\n",
    "- For example, if the minimum value of a feature was 20, and the maximum value was 40, then 30 would be transformed to about 0.5 since it is halfway between 20 and 40. \n",
    "\n",
    "*Key Benefit:* Gaurantees all features will have the exact same scale\n",
    "\n",
    "*Key Downside:* Does not handle outliers very well, so this will be important to note as we go through our analysis"
   ]
  },
  {
   "cell_type": "code",
   "execution_count": 5,
   "metadata": {},
   "outputs": [],
   "source": [
    "# use MinMaxScaler to transform the data to fit\n",
    "from sklearn.preprocessing import MinMaxScaler\n",
    "\n",
    "# create scaler\n",
    "scaler = MinMaxScaler()\n",
    "\n",
    "# fit and transform in one step\n",
    "datacont = scaler.fit_transform(datacont)\n",
    "\n",
    "# rename the df to make it easier to continue with normalization \n",
    "data_cont_transform = pd.DataFrame(datacont)"
   ]
  },
  {
   "cell_type": "code",
   "execution_count": 6,
   "metadata": {},
   "outputs": [],
   "source": [
    "data_cont_transform.columns=['Age']"
   ]
  },
  {
   "cell_type": "code",
   "execution_count": 7,
   "metadata": {},
   "outputs": [
    {
     "data": {
      "text/html": [
       "<div>\n",
       "<style scoped>\n",
       "    .dataframe tbody tr th:only-of-type {\n",
       "        vertical-align: middle;\n",
       "    }\n",
       "\n",
       "    .dataframe tbody tr th {\n",
       "        vertical-align: top;\n",
       "    }\n",
       "\n",
       "    .dataframe thead th {\n",
       "        text-align: right;\n",
       "    }\n",
       "</style>\n",
       "<table border=\"1\" class=\"dataframe\">\n",
       "  <thead>\n",
       "    <tr style=\"text-align: right;\">\n",
       "      <th></th>\n",
       "      <th>Age</th>\n",
       "    </tr>\n",
       "  </thead>\n",
       "  <tbody>\n",
       "    <tr>\n",
       "      <th>count</th>\n",
       "      <td>3474.000000</td>\n",
       "    </tr>\n",
       "    <tr>\n",
       "      <th>mean</th>\n",
       "      <td>0.311073</td>\n",
       "    </tr>\n",
       "    <tr>\n",
       "      <th>std</th>\n",
       "      <td>0.178456</td>\n",
       "    </tr>\n",
       "    <tr>\n",
       "      <th>min</th>\n",
       "      <td>0.000000</td>\n",
       "    </tr>\n",
       "    <tr>\n",
       "      <th>25%</th>\n",
       "      <td>0.166667</td>\n",
       "    </tr>\n",
       "    <tr>\n",
       "      <th>50%</th>\n",
       "      <td>0.283333</td>\n",
       "    </tr>\n",
       "    <tr>\n",
       "      <th>75%</th>\n",
       "      <td>0.433333</td>\n",
       "    </tr>\n",
       "    <tr>\n",
       "      <th>max</th>\n",
       "      <td>1.000000</td>\n",
       "    </tr>\n",
       "  </tbody>\n",
       "</table>\n",
       "</div>"
      ],
      "text/plain": [
       "               Age\n",
       "count  3474.000000\n",
       "mean      0.311073\n",
       "std       0.178456\n",
       "min       0.000000\n",
       "25%       0.166667\n",
       "50%       0.283333\n",
       "75%       0.433333\n",
       "max       1.000000"
      ]
     },
     "execution_count": 7,
     "metadata": {},
     "output_type": "execute_result"
    }
   ],
   "source": [
    "# confirm all the data is between 0 and 1 (min and max)\n",
    "data_cont_transform.describe()"
   ]
  },
  {
   "cell_type": "markdown",
   "metadata": {},
   "source": [
    "__Boxplot:__"
   ]
  },
  {
   "cell_type": "code",
   "execution_count": 8,
   "metadata": {},
   "outputs": [
    {
     "data": {
      "image/png": "[encoded data removed]",
      "text/plain": [
       "<Figure size 720x288 with 1 Axes>"
      ]
     },
     "metadata": {
      "needs_background": "light"
     },
     "output_type": "display_data"
    }
   ],
   "source": [
    "data_cont_transform.boxplot(vert=False, figsize=(10,4))\n",
    "plt.title('Prisoners Age Box Plot')\n",
    "plt.show()"
   ]
  },
  {
   "cell_type": "markdown",
   "metadata": {},
   "source": [
    "### __Normalization__\n",
    "\n",
    "Normalizing the skewness of the data makes it more symmetric. With symmetric data, the mean, median & mode will be equal, if not, the data is either positively or negatively skewed.\n",
    "- *Symmetrical*: skewness between -0.5 and 0.5 (closer to 0 the better)\n",
    "- *Moderately Skewed*: skewness between -1 and -0.5 or 0.5 and 1\n",
    "- *Highly Skewed*: skewness less than -1 or greater than 1"
   ]
  },
  {
   "cell_type": "markdown",
   "metadata": {},
   "source": [
    "__Convert:__\n",
    "\n",
    "*Positively Skewed*: square root, cube root, log, 1/x\n",
    "\n",
    "*Negatively Skewed*: square, cubic, exponential\n",
    "\n",
    "- Scipy Features:\n",
    "   - Yeojohnson & boxcox are used to normalize the data\n",
    "   - To use boxcox, all numbers in the column must be positive, if not, use stats.yeojohnson\n",
    "   - Note: add [0] to output 1 column without adding the lambda column\n",
    "   - After using Yeojohnson or boxcox, confirm the skewness through .skew().\n",
    "       - If any values are not between -0.5 and 0.5, use the conversions above to complete the normalization"
   ]
  },
  {
   "cell_type": "code",
   "execution_count": 9,
   "metadata": {},
   "outputs": [
    {
     "data": {
      "text/plain": [
       "Age    0.645001\n",
       "dtype: float64"
      ]
     },
     "execution_count": 9,
     "metadata": {},
     "output_type": "execute_result"
    }
   ],
   "source": [
    "data_cont_transform.skew()"
   ]
  },
  {
   "cell_type": "code",
   "execution_count": 10,
   "metadata": {},
   "outputs": [],
   "source": [
    "data_cont_transform[\"AgeSkew\"]= stats.yeojohnson(data_cont_transform[\"Age\"])[0]"
   ]
  },
  {
   "cell_type": "code",
   "execution_count": 11,
   "metadata": {},
   "outputs": [],
   "source": [
    "data_cont_norm = data_cont_transform.drop(['Age'], axis=1)"
   ]
  },
  {
   "cell_type": "code",
   "execution_count": 12,
   "metadata": {},
   "outputs": [
    {
     "data": {
      "text/plain": [
       "AgeSkew    0.036391\n",
       "dtype: float64"
      ]
     },
     "execution_count": 12,
     "metadata": {},
     "output_type": "execute_result"
    }
   ],
   "source": [
    "data_cont_norm.skew()"
   ]
  },
  {
   "cell_type": "markdown",
   "metadata": {},
   "source": [
    "__Visualize:__\n",
    "\n",
    "After normalizing, visualize the results in histograms and compare them to the previous histograms."
   ]
  },
  {
   "cell_type": "code",
   "execution_count": 13,
   "metadata": {},
   "outputs": [
    {
     "data": {
      "image/png": "[encoded data removed]",
      "text/plain": [
       "<Figure size 432x288 with 1 Axes>"
      ]
     },
     "metadata": {
      "needs_background": "light"
     },
     "output_type": "display_data"
    }
   ],
   "source": [
    "sns.distplot(data_cont_norm[\"AgeSkew\"])\n",
    "plt.title('Prisoners Age Skew')\n",
    "plt.show()"
   ]
  },
  {
   "cell_type": "markdown",
   "metadata": {},
   "source": [
    "## __3 STD__\n",
    "\n",
    "The Standard Deviation (3STD) measures the variation between each data point and the mean in a dataset. \n",
    "\n",
    "The standard deviation is used to determine and handle outliers.\n",
    "- A loop is used to find and replace the numbers outside the upper and lower bounds. standard deviation determines these upper and lower bounds through the following formulas:\n",
    "    - UpperBound = mean + 3(StandardDeviation)\n",
    "    - LowerBound = mean - 3(StandardDeviation)\n",
    "- Next, the for loop will replace the data outside of these bounds with the standard deviation\n",
    "    - If the value is > UpperBound, it will be replaced with the UpperBound value\n",
    "    - If the value is < LowerBound, it will be replaced with the LowerBound value\n",
    "- A box plot can be used to check the results, there should be no black dotted outliers on the plot anymore"
   ]
  },
  {
   "cell_type": "markdown",
   "metadata": {},
   "source": [
    "__Set the Upper Bound to 3 Standard Deviations Above the Mean:__"
   ]
  },
  {
   "cell_type": "code",
   "execution_count": 14,
   "metadata": {},
   "outputs": [],
   "source": [
    "for col in data_cont_norm.columns:\n",
    "    u_bound = data_cont_norm[col].mean() + 3* data_cont_norm[col].std()\n",
    "    data_cont_norm[col][data_cont_norm[col] > u_bound] = u_bound"
   ]
  },
  {
   "cell_type": "markdown",
   "metadata": {},
   "source": [
    "__Set the Lower Bound to 3 Standard Deviations Below the Mean:__"
   ]
  },
  {
   "cell_type": "code",
   "execution_count": 15,
   "metadata": {},
   "outputs": [],
   "source": [
    "for col in data_cont_norm.columns:\n",
    "    l_bound = data_cont_norm[col].mean() - 3*data_cont_norm[col].std()\n",
    "    data_cont_norm[col][data_cont_norm[col] < l_bound] = l_bound"
   ]
  },
  {
   "cell_type": "markdown",
   "metadata": {},
   "source": [
    "__Boxplot:__"
   ]
  },
  {
   "cell_type": "code",
   "execution_count": 16,
   "metadata": {},
   "outputs": [
    {
     "data": {
      "image/png": "[encoded data removed]",
      "text/plain": [
       "<Figure size 720x288 with 1 Axes>"
      ]
     },
     "metadata": {
      "needs_background": "light"
     },
     "output_type": "display_data"
    }
   ],
   "source": [
    "data_cont_norm.boxplot(vert=False, figsize=(10,4))\n",
    "plt.title('Prisoners Age Box Plot')\n",
    "plt.show()"
   ]
  },
  {
   "cell_type": "markdown",
   "metadata": {},
   "source": [
    "## Correlation"
   ]
  },
  {
   "cell_type": "code",
   "execution_count": 17,
   "metadata": {},
   "outputs": [
    {
     "data": {
      "image/png": "[encoded data removed]",
      "text/plain": [
       "<Figure size 576x360 with 2 Axes>"
      ]
     },
     "metadata": {
      "needs_background": "light"
     },
     "output_type": "display_data"
    }
   ],
   "source": [
    "corr = data_cont_norm.corr()\n",
    "fig, ax = plt.subplots(figsize=(8, 5))\n",
    "sns.heatmap(corr, annot=True, fmt=\".3f\", cmap=\"Blues\")\n",
    "plt.title(\"Correlation Matrix\")\n",
    "plt.show()"
   ]
  },
  {
   "cell_type": "markdown",
   "metadata": {},
   "source": [
    "- Since there is only 1 continuous value, there is no correlation with other variables"
   ]
  },
  {
   "cell_type": "markdown",
   "metadata": {},
   "source": [
    "__Final DataFrame__"
   ]
  },
  {
   "cell_type": "markdown",
   "metadata": {},
   "source": [
    "- Connect all 3 dataframes back together and save them as a csv"
   ]
  },
  {
   "cell_type": "code",
   "execution_count": 18,
   "metadata": {},
   "outputs": [
    {
     "data": {
      "text/html": [
       "<div>\n",
       "<style scoped>\n",
       "    .dataframe tbody tr th:only-of-type {\n",
       "        vertical-align: middle;\n",
       "    }\n",
       "\n",
       "    .dataframe tbody tr th {\n",
       "        vertical-align: top;\n",
       "    }\n",
       "\n",
       "    .dataframe thead th {\n",
       "        text-align: right;\n",
       "    }\n",
       "</style>\n",
       "<table border=\"1\" class=\"dataframe\">\n",
       "  <thead>\n",
       "    <tr style=\"text-align: right;\">\n",
       "      <th></th>\n",
       "      <th>AgeSkew</th>\n",
       "      <th>Sex_Female</th>\n",
       "      <th>Sex_Male</th>\n",
       "      <th>Race_American Indian, Alaska Native non-Hispanic</th>\n",
       "      <th>Race_Asian, Pacific Islander, Native Hawaiian non-Hispanic</th>\n",
       "      <th>Race_Black non-Hispanic</th>\n",
       "      <th>Race_Hispanic</th>\n",
       "      <th>Race_Multiple races, non-Hispanic</th>\n",
       "      <th>Race_White non-Hispanic</th>\n",
       "      <th>USCitizen_Not a US Citizen</th>\n",
       "      <th>...</th>\n",
       "      <th>Income_800-999</th>\n",
       "      <th>Income_No income</th>\n",
       "      <th>Weapons_Blunt object</th>\n",
       "      <th>Weapons_Firearm</th>\n",
       "      <th>Weapons_Knife</th>\n",
       "      <th>Weapons_None</th>\n",
       "      <th>Weapons_Other</th>\n",
       "      <th>Weapons_Other sharp object</th>\n",
       "      <th>Weapons_Toy or bb gun</th>\n",
       "      <th>CriminalHistoryEnc</th>\n",
       "    </tr>\n",
       "  </thead>\n",
       "  <tbody>\n",
       "    <tr>\n",
       "      <th>0</th>\n",
       "      <td>0.270521</td>\n",
       "      <td>1</td>\n",
       "      <td>0</td>\n",
       "      <td>0</td>\n",
       "      <td>0</td>\n",
       "      <td>1</td>\n",
       "      <td>0</td>\n",
       "      <td>0</td>\n",
       "      <td>0</td>\n",
       "      <td>1</td>\n",
       "      <td>...</td>\n",
       "      <td>0</td>\n",
       "      <td>0</td>\n",
       "      <td>0</td>\n",
       "      <td>0</td>\n",
       "      <td>0</td>\n",
       "      <td>1</td>\n",
       "      <td>0</td>\n",
       "      <td>0</td>\n",
       "      <td>0</td>\n",
       "      <td>0</td>\n",
       "    </tr>\n",
       "    <tr>\n",
       "      <th>1</th>\n",
       "      <td>0.350136</td>\n",
       "      <td>1</td>\n",
       "      <td>0</td>\n",
       "      <td>0</td>\n",
       "      <td>0</td>\n",
       "      <td>1</td>\n",
       "      <td>0</td>\n",
       "      <td>0</td>\n",
       "      <td>0</td>\n",
       "      <td>1</td>\n",
       "      <td>...</td>\n",
       "      <td>0</td>\n",
       "      <td>0</td>\n",
       "      <td>0</td>\n",
       "      <td>0</td>\n",
       "      <td>0</td>\n",
       "      <td>1</td>\n",
       "      <td>0</td>\n",
       "      <td>0</td>\n",
       "      <td>0</td>\n",
       "      <td>0</td>\n",
       "    </tr>\n",
       "    <tr>\n",
       "      <th>2</th>\n",
       "      <td>0.186207</td>\n",
       "      <td>1</td>\n",
       "      <td>0</td>\n",
       "      <td>0</td>\n",
       "      <td>0</td>\n",
       "      <td>0</td>\n",
       "      <td>1</td>\n",
       "      <td>0</td>\n",
       "      <td>0</td>\n",
       "      <td>1</td>\n",
       "      <td>...</td>\n",
       "      <td>0</td>\n",
       "      <td>0</td>\n",
       "      <td>0</td>\n",
       "      <td>0</td>\n",
       "      <td>0</td>\n",
       "      <td>1</td>\n",
       "      <td>0</td>\n",
       "      <td>0</td>\n",
       "      <td>0</td>\n",
       "      <td>0</td>\n",
       "    </tr>\n",
       "    <tr>\n",
       "      <th>3</th>\n",
       "      <td>0.164369</td>\n",
       "      <td>1</td>\n",
       "      <td>0</td>\n",
       "      <td>0</td>\n",
       "      <td>0</td>\n",
       "      <td>0</td>\n",
       "      <td>1</td>\n",
       "      <td>0</td>\n",
       "      <td>0</td>\n",
       "      <td>1</td>\n",
       "      <td>...</td>\n",
       "      <td>0</td>\n",
       "      <td>0</td>\n",
       "      <td>0</td>\n",
       "      <td>0</td>\n",
       "      <td>0</td>\n",
       "      <td>1</td>\n",
       "      <td>0</td>\n",
       "      <td>0</td>\n",
       "      <td>0</td>\n",
       "      <td>0</td>\n",
       "    </tr>\n",
       "    <tr>\n",
       "      <th>4</th>\n",
       "      <td>0.262137</td>\n",
       "      <td>1</td>\n",
       "      <td>0</td>\n",
       "      <td>0</td>\n",
       "      <td>0</td>\n",
       "      <td>1</td>\n",
       "      <td>0</td>\n",
       "      <td>0</td>\n",
       "      <td>0</td>\n",
       "      <td>0</td>\n",
       "      <td>...</td>\n",
       "      <td>0</td>\n",
       "      <td>0</td>\n",
       "      <td>0</td>\n",
       "      <td>0</td>\n",
       "      <td>0</td>\n",
       "      <td>1</td>\n",
       "      <td>0</td>\n",
       "      <td>0</td>\n",
       "      <td>0</td>\n",
       "      <td>1</td>\n",
       "    </tr>\n",
       "  </tbody>\n",
       "</table>\n",
       "<p>5 rows × 120 columns</p>\n",
       "</div>"
      ],
      "text/plain": [
       "    AgeSkew  Sex_Female  Sex_Male  \\\n",
       "0  0.270521           1         0   \n",
       "1  0.350136           1         0   \n",
       "2  0.186207           1         0   \n",
       "3  0.164369           1         0   \n",
       "4  0.262137           1         0   \n",
       "\n",
       "   Race_American Indian, Alaska Native non-Hispanic  \\\n",
       "0                                                 0   \n",
       "1                                                 0   \n",
       "2                                                 0   \n",
       "3                                                 0   \n",
       "4                                                 0   \n",
       "\n",
       "   Race_Asian, Pacific Islander, Native Hawaiian non-Hispanic  \\\n",
       "0                                                  0            \n",
       "1                                                  0            \n",
       "2                                                  0            \n",
       "3                                                  0            \n",
       "4                                                  0            \n",
       "\n",
       "   Race_Black non-Hispanic  Race_Hispanic  Race_Multiple races, non-Hispanic  \\\n",
       "0                        1              0                                  0   \n",
       "1                        1              0                                  0   \n",
       "2                        0              1                                  0   \n",
       "3                        0              1                                  0   \n",
       "4                        1              0                                  0   \n",
       "\n",
       "   Race_White non-Hispanic  USCitizen_Not a US Citizen  ...  Income_800-999  \\\n",
       "0                        0                           1  ...               0   \n",
       "1                        0                           1  ...               0   \n",
       "2                        0                           1  ...               0   \n",
       "3                        0                           1  ...               0   \n",
       "4                        0                           0  ...               0   \n",
       "\n",
       "   Income_No income  Weapons_Blunt object  Weapons_Firearm  Weapons_Knife  \\\n",
       "0                 0                     0                0              0   \n",
       "1                 0                     0                0              0   \n",
       "2                 0                     0                0              0   \n",
       "3                 0                     0                0              0   \n",
       "4                 0                     0                0              0   \n",
       "\n",
       "   Weapons_None  Weapons_Other  Weapons_Other sharp object  \\\n",
       "0             1              0                           0   \n",
       "1             1              0                           0   \n",
       "2             1              0                           0   \n",
       "3             1              0                           0   \n",
       "4             1              0                           0   \n",
       "\n",
       "   Weapons_Toy or bb gun  CriminalHistoryEnc  \n",
       "0                      0                   0  \n",
       "1                      0                   0  \n",
       "2                      0                   0  \n",
       "3                      0                   0  \n",
       "4                      0                   1  \n",
       "\n",
       "[5 rows x 120 columns]"
      ]
     },
     "execution_count": 18,
     "metadata": {},
     "output_type": "execute_result"
    }
   ],
   "source": [
    "pipeline3_2 = pd.concat([data_cont_norm,data_cat_enc,target], axis=1)\n",
    "pipeline3_2.head()"
   ]
  },
  {
   "cell_type": "code",
   "execution_count": 19,
   "metadata": {},
   "outputs": [],
   "source": [
    "pipeline3_2.to_csv('../BUAN6590-Capstone-BridgetWeill/pipeline3_2.csv', index=0)"
   ]
  }
 ],
 "metadata": {
  "kernelspec": {
   "display_name": "Python 3",
   "language": "python",
   "name": "python3"
  },
  "language_info": {
   "codemirror_mode": {
    "name": "ipython",
    "version": 3
   },
   "file_extension": ".py",
   "mimetype": "text/x-python",
   "name": "python",
   "nbconvert_exporter": "python",
   "pygments_lexer": "ipython3",
   "version": "3.6.7"
  }
 },
 "nbformat": 4,
 "nbformat_minor": 4
}
