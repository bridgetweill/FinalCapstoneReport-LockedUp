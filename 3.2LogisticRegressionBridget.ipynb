{
 "cells": [
  {
   "cell_type": "markdown",
   "metadata": {},
   "source": [
    "# Logistic Regression: \n",
    "#### _Pipeline 3.2_\n",
    "_Locked Up_ - Bridget Weill - Fairfield University - MSBA Capstone Project\n",
    "\n",
    "------------------"
   ]
  },
  {
   "cell_type": "markdown",
   "metadata": {},
   "source": [
    "### Import Packages & Data"
   ]
  },
  {
   "cell_type": "code",
   "execution_count": 1,
   "metadata": {},
   "outputs": [
    {
     "data": {
      "text/html": [
       "<div>\n",
       "<style scoped>\n",
       "    .dataframe tbody tr th:only-of-type {\n",
       "        vertical-align: middle;\n",
       "    }\n",
       "\n",
       "    .dataframe tbody tr th {\n",
       "        vertical-align: top;\n",
       "    }\n",
       "\n",
       "    .dataframe thead th {\n",
       "        text-align: right;\n",
       "    }\n",
       "</style>\n",
       "<table border=\"1\" class=\"dataframe\">\n",
       "  <thead>\n",
       "    <tr style=\"text-align: right;\">\n",
       "      <th></th>\n",
       "      <th>AgeSkew</th>\n",
       "      <th>Sex_Female</th>\n",
       "      <th>Sex_Male</th>\n",
       "      <th>Race_American Indian, Alaska Native non-Hispanic</th>\n",
       "      <th>Race_Asian, Pacific Islander, Native Hawaiian non-Hispanic</th>\n",
       "      <th>Race_Black non-Hispanic</th>\n",
       "      <th>Race_Hispanic</th>\n",
       "      <th>Race_Multiple races, non-Hispanic</th>\n",
       "      <th>Race_White non-Hispanic</th>\n",
       "      <th>USCitizen_Not a US Citizen</th>\n",
       "      <th>...</th>\n",
       "      <th>Income_800-999</th>\n",
       "      <th>Income_No income</th>\n",
       "      <th>Weapons_Blunt object</th>\n",
       "      <th>Weapons_Firearm</th>\n",
       "      <th>Weapons_Knife</th>\n",
       "      <th>Weapons_None</th>\n",
       "      <th>Weapons_Other</th>\n",
       "      <th>Weapons_Other sharp object</th>\n",
       "      <th>Weapons_Toy or bb gun</th>\n",
       "      <th>CriminalHistoryEnc</th>\n",
       "    </tr>\n",
       "  </thead>\n",
       "  <tbody>\n",
       "    <tr>\n",
       "      <th>0</th>\n",
       "      <td>0.270521</td>\n",
       "      <td>1</td>\n",
       "      <td>0</td>\n",
       "      <td>0</td>\n",
       "      <td>0</td>\n",
       "      <td>1</td>\n",
       "      <td>0</td>\n",
       "      <td>0</td>\n",
       "      <td>0</td>\n",
       "      <td>1</td>\n",
       "      <td>...</td>\n",
       "      <td>0</td>\n",
       "      <td>0</td>\n",
       "      <td>0</td>\n",
       "      <td>0</td>\n",
       "      <td>0</td>\n",
       "      <td>1</td>\n",
       "      <td>0</td>\n",
       "      <td>0</td>\n",
       "      <td>0</td>\n",
       "      <td>0</td>\n",
       "    </tr>\n",
       "    <tr>\n",
       "      <th>1</th>\n",
       "      <td>0.350136</td>\n",
       "      <td>1</td>\n",
       "      <td>0</td>\n",
       "      <td>0</td>\n",
       "      <td>0</td>\n",
       "      <td>1</td>\n",
       "      <td>0</td>\n",
       "      <td>0</td>\n",
       "      <td>0</td>\n",
       "      <td>1</td>\n",
       "      <td>...</td>\n",
       "      <td>0</td>\n",
       "      <td>0</td>\n",
       "      <td>0</td>\n",
       "      <td>0</td>\n",
       "      <td>0</td>\n",
       "      <td>1</td>\n",
       "      <td>0</td>\n",
       "      <td>0</td>\n",
       "      <td>0</td>\n",
       "      <td>0</td>\n",
       "    </tr>\n",
       "    <tr>\n",
       "      <th>2</th>\n",
       "      <td>0.186207</td>\n",
       "      <td>1</td>\n",
       "      <td>0</td>\n",
       "      <td>0</td>\n",
       "      <td>0</td>\n",
       "      <td>0</td>\n",
       "      <td>1</td>\n",
       "      <td>0</td>\n",
       "      <td>0</td>\n",
       "      <td>1</td>\n",
       "      <td>...</td>\n",
       "      <td>0</td>\n",
       "      <td>0</td>\n",
       "      <td>0</td>\n",
       "      <td>0</td>\n",
       "      <td>0</td>\n",
       "      <td>1</td>\n",
       "      <td>0</td>\n",
       "      <td>0</td>\n",
       "      <td>0</td>\n",
       "      <td>0</td>\n",
       "    </tr>\n",
       "    <tr>\n",
       "      <th>3</th>\n",
       "      <td>0.164369</td>\n",
       "      <td>1</td>\n",
       "      <td>0</td>\n",
       "      <td>0</td>\n",
       "      <td>0</td>\n",
       "      <td>0</td>\n",
       "      <td>1</td>\n",
       "      <td>0</td>\n",
       "      <td>0</td>\n",
       "      <td>1</td>\n",
       "      <td>...</td>\n",
       "      <td>0</td>\n",
       "      <td>0</td>\n",
       "      <td>0</td>\n",
       "      <td>0</td>\n",
       "      <td>0</td>\n",
       "      <td>1</td>\n",
       "      <td>0</td>\n",
       "      <td>0</td>\n",
       "      <td>0</td>\n",
       "      <td>0</td>\n",
       "    </tr>\n",
       "    <tr>\n",
       "      <th>4</th>\n",
       "      <td>0.262137</td>\n",
       "      <td>1</td>\n",
       "      <td>0</td>\n",
       "      <td>0</td>\n",
       "      <td>0</td>\n",
       "      <td>1</td>\n",
       "      <td>0</td>\n",
       "      <td>0</td>\n",
       "      <td>0</td>\n",
       "      <td>0</td>\n",
       "      <td>...</td>\n",
       "      <td>0</td>\n",
       "      <td>0</td>\n",
       "      <td>0</td>\n",
       "      <td>0</td>\n",
       "      <td>0</td>\n",
       "      <td>1</td>\n",
       "      <td>0</td>\n",
       "      <td>0</td>\n",
       "      <td>0</td>\n",
       "      <td>1</td>\n",
       "    </tr>\n",
       "  </tbody>\n",
       "</table>\n",
       "<p>5 rows × 120 columns</p>\n",
       "</div>"
      ],
      "text/plain": [
       "    AgeSkew  Sex_Female  Sex_Male  \\\n",
       "0  0.270521           1         0   \n",
       "1  0.350136           1         0   \n",
       "2  0.186207           1         0   \n",
       "3  0.164369           1         0   \n",
       "4  0.262137           1         0   \n",
       "\n",
       "   Race_American Indian, Alaska Native non-Hispanic  \\\n",
       "0                                                 0   \n",
       "1                                                 0   \n",
       "2                                                 0   \n",
       "3                                                 0   \n",
       "4                                                 0   \n",
       "\n",
       "   Race_Asian, Pacific Islander, Native Hawaiian non-Hispanic  \\\n",
       "0                                                  0            \n",
       "1                                                  0            \n",
       "2                                                  0            \n",
       "3                                                  0            \n",
       "4                                                  0            \n",
       "\n",
       "   Race_Black non-Hispanic  Race_Hispanic  Race_Multiple races, non-Hispanic  \\\n",
       "0                        1              0                                  0   \n",
       "1                        1              0                                  0   \n",
       "2                        0              1                                  0   \n",
       "3                        0              1                                  0   \n",
       "4                        1              0                                  0   \n",
       "\n",
       "   Race_White non-Hispanic  USCitizen_Not a US Citizen  ...  Income_800-999  \\\n",
       "0                        0                           1  ...               0   \n",
       "1                        0                           1  ...               0   \n",
       "2                        0                           1  ...               0   \n",
       "3                        0                           1  ...               0   \n",
       "4                        0                           0  ...               0   \n",
       "\n",
       "   Income_No income  Weapons_Blunt object  Weapons_Firearm  Weapons_Knife  \\\n",
       "0                 0                     0                0              0   \n",
       "1                 0                     0                0              0   \n",
       "2                 0                     0                0              0   \n",
       "3                 0                     0                0              0   \n",
       "4                 0                     0                0              0   \n",
       "\n",
       "   Weapons_None  Weapons_Other  Weapons_Other sharp object  \\\n",
       "0             1              0                           0   \n",
       "1             1              0                           0   \n",
       "2             1              0                           0   \n",
       "3             1              0                           0   \n",
       "4             1              0                           0   \n",
       "\n",
       "   Weapons_Toy or bb gun  CriminalHistoryEnc  \n",
       "0                      0                   0  \n",
       "1                      0                   0  \n",
       "2                      0                   0  \n",
       "3                      0                   0  \n",
       "4                      0                   1  \n",
       "\n",
       "[5 rows x 120 columns]"
      ]
     },
     "execution_count": 1,
     "metadata": {},
     "output_type": "execute_result"
    }
   ],
   "source": [
    "# import required modules\n",
    "import pandas as pd\n",
    "from sklearn.model_selection import train_test_split\n",
    "from sklearn.linear_model import LogisticRegression\n",
    "from sklearn import metrics\n",
    "from sklearn.metrics import classification_report, confusion_matrix\n",
    "import pandas as pd\n",
    "from sklearn.metrics import roc_auc_score\n",
    "from sklearn.metrics import precision_recall_fscore_support\n",
    "import numpy as np\n",
    "\n",
    "# load dataset\n",
    "lgdata = pd.read_csv('pipeline3_2.csv', header=0)\n",
    "lgdata.head()"
   ]
  },
  {
   "cell_type": "markdown",
   "metadata": {},
   "source": [
    "### Divide Variables & Split Data\n",
    "\n",
    "Divide the given columns into two types of variables dependent(or target variable) and independent variable(or feature variables)."
   ]
  },
  {
   "cell_type": "code",
   "execution_count": 2,
   "metadata": {
    "collapsed": false
   },
   "outputs": [
    {
     "data": {
      "text/plain": [
       "array(['AgeSkew', 'Sex_Female', 'Sex_Male',\n",
       "       'Race_American Indian, Alaska Native non-Hispanic',\n",
       "       'Race_Asian, Pacific Islander, Native Hawaiian non-Hispanic',\n",
       "       'Race_Black non-Hispanic', 'Race_Hispanic',\n",
       "       'Race_Multiple races, non-Hispanic', 'Race_White non-Hispanic',\n",
       "       'USCitizen_Not a US Citizen', 'USCitizen_US Citizen',\n",
       "       'MaritalStatus_Divorced', 'MaritalStatus_Married',\n",
       "       'MaritalStatus_Never Married',\n",
       "       'MaritalStatus_Seperated (not because of prison)',\n",
       "       'MaritalStatus_Widowed', 'CurrentOffense_Arson',\n",
       "       'CurrentOffense_Assault', 'CurrentOffense_Burglary',\n",
       "       'CurrentOffense_Drug Possession',\n",
       "       'CurrentOffense_Drug Trafficking',\n",
       "       'CurrentOffense_Drunkenness/morals', 'CurrentOffense_Dwi',\n",
       "       'CurrentOffense_Fraud', 'CurrentOffense_Kidnapping',\n",
       "       'CurrentOffense_Larceny', 'CurrentOffense_Manslaughter',\n",
       "       'CurrentOffense_Motor Vehicle Theft', 'CurrentOffense_Murder',\n",
       "       'CurrentOffense_Obstruction of justice', 'CurrentOffense_Other',\n",
       "       'CurrentOffense_Other Property offense',\n",
       "       'CurrentOffense_Other drug offense',\n",
       "       'CurrentOffense_Other offenses',\n",
       "       'CurrentOffense_Other publicorder offenses',\n",
       "       'CurrentOffense_Other sexual offense',\n",
       "       'CurrentOffense_Other violent offense', 'CurrentOffense_Rape',\n",
       "       'CurrentOffense_Robbery', 'CurrentOffense_Stolen Property',\n",
       "       'CurrentOffense_Traffic violation',\n",
       "       'CurrentOffense_Violation of probation or parole',\n",
       "       'CurrentOffense_Weapons', 'CrimeDrugMoney_No',\n",
       "       'CrimeDrugMoney_Yes', 'SexOffender_No', 'SexOffender_Yes',\n",
       "       'Status_Escape', 'Status_New Court Commitment',\n",
       "       'Status_Parole Violation', 'Status_Probation Violation',\n",
       "       'SecondWeapon_More than 1 weapon', 'SecondWeapon_No weapon used',\n",
       "       'SecondWeapon_One weapon used', 'MentalDisorder_Don’t Know',\n",
       "       'MentalDisorder_No', 'MentalDisorder_Yes', 'Abused_Both',\n",
       "       'Abused_Neither', 'Abused_Physically', 'Abused_Sexually',\n",
       "       'Children_Does not have children', 'Children_Has children',\n",
       "       'Guardian_Agency or institution', 'Guardian_Both parents',\n",
       "       'Guardian_Father', 'Guardian_Foster Home', 'Guardian_Friends',\n",
       "       'Guardian_Grandparents', 'Guardian_Mother',\n",
       "       'Guardian_Other relatives (step-relations included)',\n",
       "       'Guardian_Someone else', 'MotherPrison_No', 'MotherPrison_Yes',\n",
       "       'FatherPrison_No', 'FatherPrison_Yes', 'SpousePrison_No',\n",
       "       'SpousePrison_Yes', 'ChildPrison_No', 'ChildPrison_Yes',\n",
       "       'BrotherPrison_No', 'BrotherPrison_Yes', 'SisterPrison_No',\n",
       "       'SisterPrison_Yes', 'IllegalDrugs_No', 'IllegalDrugs_Yes',\n",
       "       'AlcoholDaily_No', 'AlcoholDaily_Yes', 'Education_Another Country',\n",
       "       'Education_Completed Elementary School',\n",
       "       'Education_Completed Middle School', 'Education_Graduated College',\n",
       "       'Education_Graduated High School', 'Education_No Schooling',\n",
       "       'Education_Some College', 'Education_Some Elementary School',\n",
       "       'Education_Some Graduate School', 'Education_Some High School',\n",
       "       'Education_Some Middle School', 'Income_1-199', 'Income_1000-1199',\n",
       "       'Income_1200-1499', 'Income_1500-1999', 'Income_200-399',\n",
       "       'Income_2000-2499', 'Income_2500-4999', 'Income_400-599',\n",
       "       'Income_5000-7499', 'Income_600-799', 'Income_7500 or more',\n",
       "       'Income_800-999', 'Income_No income', 'Weapons_Blunt object',\n",
       "       'Weapons_Firearm', 'Weapons_Knife', 'Weapons_None',\n",
       "       'Weapons_Other', 'Weapons_Other sharp object',\n",
       "       'Weapons_Toy or bb gun', 'CriminalHistoryEnc'], dtype=object)"
      ]
     },
     "execution_count": 2,
     "metadata": {},
     "output_type": "execute_result"
    }
   ],
   "source": [
    "lgdata.columns.values"
   ]
  },
  {
   "cell_type": "code",
   "execution_count": 3,
   "metadata": {},
   "outputs": [],
   "source": [
    "feature_cols = ['Sex_Female',\n",
    " 'Sex_Male',\n",
    "'CurrentOffense_Burglary',\n",
    "'CurrentOffense_Drug Possession',\n",
    "'CurrentOffense_Drug Trafficking',\n",
    "'CurrentOffense_Dwi',\n",
    "'CurrentOffense_Fraud',\n",
    "'CurrentOffense_Kidnapping',\n",
    "'CurrentOffense_Larceny',\n",
    "'CurrentOffense_Motor Vehicle Theft',\n",
    "'CurrentOffense_Obstruction of justice',\n",
    "'CurrentOffense_Other Property offense',\n",
    "'CurrentOffense_Other drug offense',\n",
    "'CurrentOffense_Other publicorder offenses',\n",
    "'CurrentOffense_Other sexual offense',\n",
    "'CurrentOffense_Stolen Property',\n",
    "'CrimeDrugMoney_Yes',\n",
    "'SexOffender_No',\n",
    "'SexOffender_Yes',\n",
    "'Status_Escape',\n",
    " 'SecondWeapon_More than 1 weapon',\n",
    "'SecondWeapon_No weapon used',\n",
    " 'SecondWeapon_One weapon used',\n",
    " 'MentalDisorder_Yes',\n",
    "  'Guardian_Agency or institution',\n",
    "'Guardian_Foster Home',\n",
    " 'Guardian_Grandparents',\n",
    "'Guardian_Someone else',\n",
    "'IllegalDrugs_No',\n",
    "'Education_Another Country',\n",
    "'Education_Graduated College',\n",
    "'Education_No Schooling',\n",
    "'Education_Some Graduate School',\n",
    "'Income_5000-7499',\n",
    " 'Weapons_Blunt object',\n",
    " 'Weapons_Knife',\n",
    "'Weapons_None',\n",
    " 'Weapons_Other',\n",
    "'Weapons_Other sharp object',\n",
    "'Weapons_Toy or bb gun']\n",
    "X = lgdata[feature_cols] # Features\n",
    "y = lgdata.CriminalHistoryEnc # Target variable"
   ]
  },
  {
   "cell_type": "markdown",
   "metadata": {},
   "source": [
    "### Split Data\n",
    "\n",
    "Divide the dataset into a training set and a test set. Use function train_test_split(). Pass 3 parameters features, target, and test_set size. (can use random_state to select records randomly). 75% of the data will be used for model training and 25% for model testing in this model."
   ]
  },
  {
   "cell_type": "code",
   "execution_count": 4,
   "metadata": {
    "collapsed": false
   },
   "outputs": [],
   "source": [
    "# split X and y into training and testing sets\n",
    "X_train,X_test,y_train,y_test=train_test_split(X,y,test_size=0.25,random_state=2019)"
   ]
  },
  {
   "cell_type": "markdown",
   "metadata": {},
   "source": [
    "### Model Development and Prediction\n",
    "\n",
    "Import the Logistic Regression module and create a Logistic Regression classifier object using LogisticRegression() function. Fit your model on the train set using fit() and perform prediction on the test set using predict()."
   ]
  },
  {
   "cell_type": "code",
   "execution_count": 5,
   "metadata": {
    "collapsed": true
   },
   "outputs": [],
   "source": [
    "# instantiate the model (using the default parameters)\n",
    "logreg = LogisticRegression()\n",
    "\n",
    "# fit the model with data\n",
    "logreg.fit(X_train,y_train)\n",
    "\n",
    "# predict the model\n",
    "y_pred=logreg.predict(X_test)"
   ]
  },
  {
   "cell_type": "markdown",
   "metadata": {},
   "source": [
    "### Confusion Matrix\n",
    "A confusion matrix is used to evaluate the performance of a classification model. \n",
    "\n",
    "The dimension of this matrix is 2x2 because this model is binary classification (0 and 1). Diagonal values are accurate predictions, non-diagonal elements are inaccurate predictions. In the output, 2474 and 271 are actual predictions, and 195 and 143 are incorrect predictions."
   ]
  },
  {
   "cell_type": "code",
   "execution_count": 6,
   "metadata": {
    "collapsed": false
   },
   "outputs": [
    {
     "data": {
      "text/plain": [
       "array([[384,  99],\n",
       "       [233, 153]])"
      ]
     },
     "execution_count": 6,
     "metadata": {},
     "output_type": "execute_result"
    }
   ],
   "source": [
    "cnf_matrix = metrics.confusion_matrix(y_test, y_pred)\n",
    "cnf_matrix"
   ]
  },
  {
   "cell_type": "markdown",
   "metadata": {},
   "source": [
    "### Evaluation Metrics"
   ]
  },
  {
   "cell_type": "code",
   "execution_count": 7,
   "metadata": {
    "collapsed": false
   },
   "outputs": [
    {
     "name": "stdout",
     "output_type": "stream",
     "text": [
      "F1_Score: 0.4796238244514107\n",
      "AUC: 0.5957020564477198\n",
      "              precision    recall  f1-score   support\n",
      "\n",
      "           0       0.62      0.80      0.70       483\n",
      "           1       0.61      0.40      0.48       386\n",
      "\n",
      "    accuracy                           0.62       869\n",
      "   macro avg       0.61      0.60      0.59       869\n",
      "weighted avg       0.62      0.62      0.60       869\n",
      "\n"
     ]
    }
   ],
   "source": [
    "print(\"F1_Score:\",metrics.f1_score(y_test, y_pred))\n",
    "print(\"AUC:\",metrics.roc_auc_score(y_test, y_pred))\n",
    "print(classification_report(y_test, y_pred))"
   ]
  }
 ],
 "metadata": {
  "kernelspec": {
   "display_name": "Python 3",
   "language": "python",
   "name": "python3"
  },
  "language_info": {
   "codemirror_mode": {
    "name": "ipython",
    "version": 3
   },
   "file_extension": ".py",
   "mimetype": "text/x-python",
   "name": "python",
   "nbconvert_exporter": "python",
   "pygments_lexer": "ipython3",
   "version": "3.6.7"
  }
 },
 "nbformat": 4,
 "nbformat_minor": 4
}
