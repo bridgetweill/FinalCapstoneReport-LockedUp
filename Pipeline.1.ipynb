{
 "cells": [
  {
   "cell_type": "markdown",
   "metadata": {},
   "source": [
    "# Pipeline 1: \n",
    "#### _Normalization -> Z Score -> 3 STD_\n",
    "_Locked Up_ - Bridget Weill - Fairfield University - MSBA Capstone Project\n",
    "\n",
    "------------------"
   ]
  },
  {
   "cell_type": "markdown",
   "metadata": {},
   "source": [
    "## Import Packages & Data"
   ]
  },
  {
   "cell_type": "code",
   "execution_count": 18,
   "metadata": {},
   "outputs": [],
   "source": [
    "# import required packages for data handling\n",
    "import pandas as pd\n",
    "import numpy as np\n",
    "import seaborn as sns\n",
    "import matplotlib as plt\n",
    "import matplotlib.pyplot as plt\n",
    "from pandas import DataFrame\n",
    "%matplotlib inline\n",
    "\n",
    "# import required packages for evaluating models\n",
    "from sklearn import metrics\n",
    "from sklearn.metrics import confusion_matrix\n",
    "from sklearn.preprocessing import StandardScaler\n",
    "\n",
    "from scipy.stats import boxcox\n",
    "from scipy import stats"
   ]
  },
  {
   "cell_type": "code",
   "execution_count": 19,
   "metadata": {},
   "outputs": [],
   "source": [
    "datacatenc = pd.read_csv('data_cat_enc.csv')"
   ]
  },
  {
   "cell_type": "code",
   "execution_count": 20,
   "metadata": {},
   "outputs": [],
   "source": [
    "datacont = pd.read_csv('datacont.csv')"
   ]
  },
  {
   "cell_type": "code",
   "execution_count": 21,
   "metadata": {},
   "outputs": [],
   "source": [
    "target = pd.read_csv('target.csv')"
   ]
  },
  {
   "cell_type": "markdown",
   "metadata": {},
   "source": [
    "## Normalization\n",
    "\n",
    "Normalizing the skewness of the data makes it more symmetric. With symmetric data, the mean, median & mode will be equal, if not, the data is either positively or negatively skewed.\n",
    "- *Symmetrical*: skewness between -0.5 and 0.5 (closer to 0 the better)\n",
    "- *Moderately Skewed*: skewness between -1 and -0.5 or 0.5 and 1\n",
    "- *Highly Skewed*: skewness less than -1 or greater than 1"
   ]
  },
  {
   "cell_type": "markdown",
   "metadata": {},
   "source": [
    "__Convert:__\n",
    "\n",
    "*Positively Skewed*: square root, cube root, log, 1/x\n",
    "\n",
    "*Negatively Skewed*: square, cubic, exponential\n",
    "\n",
    "- Scipy Features:\n",
    "   - Yeojohnson & boxcox are used to normalize the data\n",
    "   - To use boxcox, all numbers in the column must be positive, if not, use stats.yeojohnson\n",
    "   - Note: add [0] to output 1 column without adding the lambda column\n",
    "   - After using Yeojohnson or boxcox, confirm the skewness through .skew().\n",
    "       - If any values are not between -0.5 and 0.5, use the conversions above to complete the normalization"
   ]
  },
  {
   "cell_type": "code",
   "execution_count": 22,
   "metadata": {},
   "outputs": [
    {
     "data": {
      "text/plain": [
       "Age     0.645001\n",
       "dtype: float64"
      ]
     },
     "execution_count": 22,
     "metadata": {},
     "output_type": "execute_result"
    }
   ],
   "source": [
    "datacont.skew()"
   ]
  },
  {
   "cell_type": "code",
   "execution_count": 23,
   "metadata": {},
   "outputs": [],
   "source": [
    "datacont[\"AgeSkew\"]= stats.yeojohnson(datacont[\"Age \"])[0]"
   ]
  },
  {
   "cell_type": "code",
   "execution_count": 24,
   "metadata": {},
   "outputs": [],
   "source": [
    "data_cont_norm = datacont.drop(['Age '], axis=1)"
   ]
  },
  {
   "cell_type": "code",
   "execution_count": 25,
   "metadata": {},
   "outputs": [
    {
     "data": {
      "text/plain": [
       "AgeSkew    0.00647\n",
       "dtype: float64"
      ]
     },
     "execution_count": 25,
     "metadata": {},
     "output_type": "execute_result"
    }
   ],
   "source": [
    "data_cont_norm.skew()"
   ]
  },
  {
   "cell_type": "markdown",
   "metadata": {},
   "source": [
    "## __Z Score__\n",
    "\n",
    "The Z Score is used to scale and transform the data: \n",
    "- Large outliers are minimized by transforming the data to the ZScore\n",
    "- A box plot can be used to check the results, the range should not be as signifigant as it was prior to scaling"
   ]
  },
  {
   "cell_type": "code",
   "execution_count": 26,
   "metadata": {},
   "outputs": [],
   "source": [
    "# create scaler\n",
    "scaler = StandardScaler()\n",
    "\n",
    "# fit and transform in one step\n",
    "data_cont_norm = scaler.fit_transform(data_cont_norm)\n",
    "data_cont_transform = pd.DataFrame(data_cont_norm)"
   ]
  },
  {
   "cell_type": "markdown",
   "metadata": {},
   "source": [
    "_Rename the columns back after the transformation_"
   ]
  },
  {
   "cell_type": "code",
   "execution_count": 27,
   "metadata": {},
   "outputs": [],
   "source": [
    "data_cont_transform.columns=['AgeSkew']"
   ]
  },
  {
   "cell_type": "markdown",
   "metadata": {},
   "source": [
    "__Visualize the Results in a Boxplot:__"
   ]
  },
  {
   "cell_type": "code",
   "execution_count": 28,
   "metadata": {},
   "outputs": [
    {
     "data": {
      "image/png": "[encoded data removed]",
      "text/plain": [
       "<Figure size 720x288 with 1 Axes>"
      ]
     },
     "metadata": {
      "needs_background": "light"
     },
     "output_type": "display_data"
    }
   ],
   "source": [
    "data_cont_transform.boxplot(vert=False, figsize=(10,4))\n",
    "plt.title('Prisoners Age Box Plot')\n",
    "plt.show()"
   ]
  },
  {
   "cell_type": "markdown",
   "metadata": {},
   "source": [
    "- This box plot is more standardized with a range of values between -3 and 3"
   ]
  },
  {
   "cell_type": "code",
   "execution_count": 29,
   "metadata": {},
   "outputs": [
    {
     "data": {
      "text/html": [
       "<div>\n",
       "<style scoped>\n",
       "    .dataframe tbody tr th:only-of-type {\n",
       "        vertical-align: middle;\n",
       "    }\n",
       "\n",
       "    .dataframe tbody tr th {\n",
       "        vertical-align: top;\n",
       "    }\n",
       "\n",
       "    .dataframe thead th {\n",
       "        text-align: right;\n",
       "    }\n",
       "</style>\n",
       "<table border=\"1\" class=\"dataframe\">\n",
       "  <thead>\n",
       "    <tr style=\"text-align: right;\">\n",
       "      <th></th>\n",
       "      <th>AgeSkew</th>\n",
       "    </tr>\n",
       "  </thead>\n",
       "  <tbody>\n",
       "    <tr>\n",
       "      <th>count</th>\n",
       "      <td>3.474000e+03</td>\n",
       "    </tr>\n",
       "    <tr>\n",
       "      <th>mean</th>\n",
       "      <td>-2.135310e-15</td>\n",
       "    </tr>\n",
       "    <tr>\n",
       "      <th>std</th>\n",
       "      <td>1.000144e+00</td>\n",
       "    </tr>\n",
       "    <tr>\n",
       "      <th>min</th>\n",
       "      <td>-2.340195e+00</td>\n",
       "    </tr>\n",
       "    <tr>\n",
       "      <th>25%</th>\n",
       "      <td>-7.871287e-01</td>\n",
       "    </tr>\n",
       "    <tr>\n",
       "      <th>50%</th>\n",
       "      <td>-9.752440e-03</td>\n",
       "    </tr>\n",
       "    <tr>\n",
       "      <th>75%</th>\n",
       "      <td>7.791349e-01</td>\n",
       "    </tr>\n",
       "    <tr>\n",
       "      <th>max</th>\n",
       "      <td>2.703841e+00</td>\n",
       "    </tr>\n",
       "  </tbody>\n",
       "</table>\n",
       "</div>"
      ],
      "text/plain": [
       "            AgeSkew\n",
       "count  3.474000e+03\n",
       "mean  -2.135310e-15\n",
       "std    1.000144e+00\n",
       "min   -2.340195e+00\n",
       "25%   -7.871287e-01\n",
       "50%   -9.752440e-03\n",
       "75%    7.791349e-01\n",
       "max    2.703841e+00"
      ]
     },
     "execution_count": 29,
     "metadata": {},
     "output_type": "execute_result"
    }
   ],
   "source": [
    "data_cont_transform.describe()"
   ]
  },
  {
   "cell_type": "markdown",
   "metadata": {},
   "source": [
    "## __3 STD__\n",
    "\n",
    "The Standard Deviation (3STD) measures the variation between each data point and the mean in a dataset. \n",
    "\n",
    "The standard deviation is used to determine and handle outliers.\n",
    "- A loop is used to find and replace the numbers outside the upper and lower bounds. standard deviation determines these upper and lower bounds through the following formulas:\n",
    "    - UpperBound = mean + 3(StandardDeviation)\n",
    "    - LowerBound = mean - 3(StandardDeviation)\n",
    "- Next, the for loop will replace the data outside of these bounds with the standard deviation\n",
    "    - If the value is > UpperBound, it will be replaced with the UpperBound value\n",
    "    - If the value is < LowerBound, it will be replaced with the LowerBound value\n",
    "- A box plot can be used to check the results, there should be no black dotted outliers on the plot anymore"
   ]
  },
  {
   "cell_type": "markdown",
   "metadata": {},
   "source": [
    "__Set the Upper Bound to 3 Standard Deviations Above the Mean:__"
   ]
  },
  {
   "cell_type": "code",
   "execution_count": 36,
   "metadata": {},
   "outputs": [],
   "source": [
    "for col in data_cont_transform.columns:\n",
    "    u_bound = data_cont_transform[col].mean() + 3* data_cont_transform[col].std()\n",
    "    data_cont_transform[col][data_cont_transform[col] > u_bound] = u_bound"
   ]
  },
  {
   "cell_type": "markdown",
   "metadata": {},
   "source": [
    "__Set the Lower Bound to 3 Standard Deviations Below the Mean:__"
   ]
  },
  {
   "cell_type": "code",
   "execution_count": 37,
   "metadata": {},
   "outputs": [],
   "source": [
    "for col in data_cont_transform.columns:\n",
    "    l_bound = data_cont_transform[col].mean() - 3*data_cont_transform[col].std()\n",
    "    data_cont_transform[col][data_cont_transform[col] < l_bound] = l_bound"
   ]
  },
  {
   "cell_type": "markdown",
   "metadata": {},
   "source": [
    "__Visualize the Results in a Boxplot:__"
   ]
  },
  {
   "cell_type": "code",
   "execution_count": 38,
   "metadata": {},
   "outputs": [
    {
     "data": {
      "image/png": "[encoded data removed]",
      "text/plain": [
       "<Figure size 720x288 with 1 Axes>"
      ]
     },
     "metadata": {
      "needs_background": "light"
     },
     "output_type": "display_data"
    }
   ],
   "source": [
    "data_cont_transform.boxplot(vert=False, figsize=(10,4))\n",
    "plt.title('Prisoners Age Box Plot')\n",
    "plt.show()"
   ]
  },
  {
   "cell_type": "markdown",
   "metadata": {},
   "source": [
    "- The 3 Standard Deviation transformation did not make much of a difference at all from the previous step of using Zscore."
   ]
  },
  {
   "cell_type": "markdown",
   "metadata": {},
   "source": [
    "## __Correlation__"
   ]
  },
  {
   "cell_type": "code",
   "execution_count": 40,
   "metadata": {},
   "outputs": [
    {
     "data": {
      "image/png": "[encoded data removed]",
      "text/plain": [
       "<Figure size 576x360 with 2 Axes>"
      ]
     },
     "metadata": {
      "needs_background": "light"
     },
     "output_type": "display_data"
    }
   ],
   "source": [
    "corr = data_cont_transform.corr()\n",
    "fig, ax = plt.subplots(figsize=(8, 5))\n",
    "sns.heatmap(corr, annot=True, fmt=\".3f\", cmap=\"Blues\")\n",
    "plt.title(\"Correlation Matrix\")\n",
    "plt.show()"
   ]
  },
  {
   "cell_type": "markdown",
   "metadata": {},
   "source": [
    "- Since there is only 1 continuous value, there is no correlation with other variables"
   ]
  },
  {
   "cell_type": "markdown",
   "metadata": {},
   "source": [
    "__Final DataFrame__"
   ]
  },
  {
   "cell_type": "markdown",
   "metadata": {},
   "source": [
    "- Connect all 3 dataframes back together and save them as a csv"
   ]
  },
  {
   "cell_type": "code",
   "execution_count": 41,
   "metadata": {},
   "outputs": [
    {
     "data": {
      "text/html": [
       "<div>\n",
       "<style scoped>\n",
       "    .dataframe tbody tr th:only-of-type {\n",
       "        vertical-align: middle;\n",
       "    }\n",
       "\n",
       "    .dataframe tbody tr th {\n",
       "        vertical-align: top;\n",
       "    }\n",
       "\n",
       "    .dataframe thead th {\n",
       "        text-align: right;\n",
       "    }\n",
       "</style>\n",
       "<table border=\"1\" class=\"dataframe\">\n",
       "  <thead>\n",
       "    <tr style=\"text-align: right;\">\n",
       "      <th></th>\n",
       "      <th>AgeSkew</th>\n",
       "      <th>Sex_Female</th>\n",
       "      <th>Sex_Male</th>\n",
       "      <th>Race_American Indian, Alaska Native non-Hispanic</th>\n",
       "      <th>Race_Asian, Pacific Islander, Native Hawaiian non-Hispanic</th>\n",
       "      <th>Race_Black non-Hispanic</th>\n",
       "      <th>Race_Hispanic</th>\n",
       "      <th>Race_Multiple races, non-Hispanic</th>\n",
       "      <th>Race_White non-Hispanic</th>\n",
       "      <th>USCitizen_Not a US Citizen</th>\n",
       "      <th>...</th>\n",
       "      <th>Income_800-999</th>\n",
       "      <th>Income_No income</th>\n",
       "      <th>Weapons_Blunt object</th>\n",
       "      <th>Weapons_Firearm</th>\n",
       "      <th>Weapons_Knife</th>\n",
       "      <th>Weapons_None</th>\n",
       "      <th>Weapons_Other</th>\n",
       "      <th>Weapons_Other sharp object</th>\n",
       "      <th>Weapons_Toy or bb gun</th>\n",
       "      <th>CriminalHistoryEnc</th>\n",
       "    </tr>\n",
       "  </thead>\n",
       "  <tbody>\n",
       "    <tr>\n",
       "      <th>0</th>\n",
       "      <td>0.536724</td>\n",
       "      <td>1</td>\n",
       "      <td>0</td>\n",
       "      <td>0</td>\n",
       "      <td>0</td>\n",
       "      <td>1</td>\n",
       "      <td>0</td>\n",
       "      <td>0</td>\n",
       "      <td>0</td>\n",
       "      <td>1</td>\n",
       "      <td>...</td>\n",
       "      <td>0</td>\n",
       "      <td>0</td>\n",
       "      <td>0</td>\n",
       "      <td>0</td>\n",
       "      <td>0</td>\n",
       "      <td>1</td>\n",
       "      <td>0</td>\n",
       "      <td>0</td>\n",
       "      <td>0</td>\n",
       "      <td>0</td>\n",
       "    </tr>\n",
       "    <tr>\n",
       "      <th>1</th>\n",
       "      <td>1.348531</td>\n",
       "      <td>1</td>\n",
       "      <td>0</td>\n",
       "      <td>0</td>\n",
       "      <td>0</td>\n",
       "      <td>1</td>\n",
       "      <td>0</td>\n",
       "      <td>0</td>\n",
       "      <td>0</td>\n",
       "      <td>1</td>\n",
       "      <td>...</td>\n",
       "      <td>0</td>\n",
       "      <td>0</td>\n",
       "      <td>0</td>\n",
       "      <td>0</td>\n",
       "      <td>0</td>\n",
       "      <td>1</td>\n",
       "      <td>0</td>\n",
       "      <td>0</td>\n",
       "      <td>0</td>\n",
       "      <td>0</td>\n",
       "    </tr>\n",
       "    <tr>\n",
       "      <th>2</th>\n",
       "      <td>-0.321097</td>\n",
       "      <td>1</td>\n",
       "      <td>0</td>\n",
       "      <td>0</td>\n",
       "      <td>0</td>\n",
       "      <td>0</td>\n",
       "      <td>1</td>\n",
       "      <td>0</td>\n",
       "      <td>0</td>\n",
       "      <td>1</td>\n",
       "      <td>...</td>\n",
       "      <td>0</td>\n",
       "      <td>0</td>\n",
       "      <td>0</td>\n",
       "      <td>0</td>\n",
       "      <td>0</td>\n",
       "      <td>1</td>\n",
       "      <td>0</td>\n",
       "      <td>0</td>\n",
       "      <td>0</td>\n",
       "      <td>0</td>\n",
       "    </tr>\n",
       "    <tr>\n",
       "      <th>3</th>\n",
       "      <td>-0.546051</td>\n",
       "      <td>1</td>\n",
       "      <td>0</td>\n",
       "      <td>0</td>\n",
       "      <td>0</td>\n",
       "      <td>0</td>\n",
       "      <td>1</td>\n",
       "      <td>0</td>\n",
       "      <td>0</td>\n",
       "      <td>1</td>\n",
       "      <td>...</td>\n",
       "      <td>0</td>\n",
       "      <td>0</td>\n",
       "      <td>0</td>\n",
       "      <td>0</td>\n",
       "      <td>0</td>\n",
       "      <td>1</td>\n",
       "      <td>0</td>\n",
       "      <td>0</td>\n",
       "      <td>0</td>\n",
       "      <td>0</td>\n",
       "    </tr>\n",
       "    <tr>\n",
       "      <th>4</th>\n",
       "      <td>0.451735</td>\n",
       "      <td>1</td>\n",
       "      <td>0</td>\n",
       "      <td>0</td>\n",
       "      <td>0</td>\n",
       "      <td>1</td>\n",
       "      <td>0</td>\n",
       "      <td>0</td>\n",
       "      <td>0</td>\n",
       "      <td>0</td>\n",
       "      <td>...</td>\n",
       "      <td>0</td>\n",
       "      <td>0</td>\n",
       "      <td>0</td>\n",
       "      <td>0</td>\n",
       "      <td>0</td>\n",
       "      <td>1</td>\n",
       "      <td>0</td>\n",
       "      <td>0</td>\n",
       "      <td>0</td>\n",
       "      <td>1</td>\n",
       "    </tr>\n",
       "  </tbody>\n",
       "</table>\n",
       "<p>5 rows × 120 columns</p>\n",
       "</div>"
      ],
      "text/plain": [
       "    AgeSkew  Sex_Female  Sex_Male  \\\n",
       "0  0.536724           1         0   \n",
       "1  1.348531           1         0   \n",
       "2 -0.321097           1         0   \n",
       "3 -0.546051           1         0   \n",
       "4  0.451735           1         0   \n",
       "\n",
       "   Race_American Indian, Alaska Native non-Hispanic  \\\n",
       "0                                                 0   \n",
       "1                                                 0   \n",
       "2                                                 0   \n",
       "3                                                 0   \n",
       "4                                                 0   \n",
       "\n",
       "   Race_Asian, Pacific Islander, Native Hawaiian non-Hispanic  \\\n",
       "0                                                  0            \n",
       "1                                                  0            \n",
       "2                                                  0            \n",
       "3                                                  0            \n",
       "4                                                  0            \n",
       "\n",
       "   Race_Black non-Hispanic  Race_Hispanic  Race_Multiple races, non-Hispanic  \\\n",
       "0                        1              0                                  0   \n",
       "1                        1              0                                  0   \n",
       "2                        0              1                                  0   \n",
       "3                        0              1                                  0   \n",
       "4                        1              0                                  0   \n",
       "\n",
       "   Race_White non-Hispanic  USCitizen_Not a US Citizen  ...  Income_800-999  \\\n",
       "0                        0                           1  ...               0   \n",
       "1                        0                           1  ...               0   \n",
       "2                        0                           1  ...               0   \n",
       "3                        0                           1  ...               0   \n",
       "4                        0                           0  ...               0   \n",
       "\n",
       "   Income_No income  Weapons_Blunt object  Weapons_Firearm  Weapons_Knife  \\\n",
       "0                 0                     0                0              0   \n",
       "1                 0                     0                0              0   \n",
       "2                 0                     0                0              0   \n",
       "3                 0                     0                0              0   \n",
       "4                 0                     0                0              0   \n",
       "\n",
       "   Weapons_None  Weapons_Other  Weapons_Other sharp object  \\\n",
       "0             1              0                           0   \n",
       "1             1              0                           0   \n",
       "2             1              0                           0   \n",
       "3             1              0                           0   \n",
       "4             1              0                           0   \n",
       "\n",
       "   Weapons_Toy or bb gun  CriminalHistoryEnc  \n",
       "0                      0                   0  \n",
       "1                      0                   0  \n",
       "2                      0                   0  \n",
       "3                      0                   0  \n",
       "4                      0                   1  \n",
       "\n",
       "[5 rows x 120 columns]"
      ]
     },
     "execution_count": 41,
     "metadata": {},
     "output_type": "execute_result"
    }
   ],
   "source": [
    "pipeline1 = pd.concat([data_cont_transform,datacatenc,target], axis=1)\n",
    "pipeline1.head()"
   ]
  },
  {
   "cell_type": "code",
   "execution_count": 42,
   "metadata": {},
   "outputs": [],
   "source": [
    "pipeline1.to_csv('../BUAN6590-Capstone-BridgetWeill/pipeline1.csv', index=0)"
   ]
  },
  {
   "cell_type": "code",
   "execution_count": null,
   "metadata": {},
   "outputs": [],
   "source": []
  }
 ],
 "metadata": {
  "kernelspec": {
   "display_name": "Python 3",
   "language": "python",
   "name": "python3"
  },
  "language_info": {
   "codemirror_mode": {
    "name": "ipython",
    "version": 3
   },
   "file_extension": ".py",
   "mimetype": "text/x-python",
   "name": "python",
   "nbconvert_exporter": "python",
   "pygments_lexer": "ipython3",
   "version": "3.6.7"
  }
 },
 "nbformat": 4,
 "nbformat_minor": 4
}
