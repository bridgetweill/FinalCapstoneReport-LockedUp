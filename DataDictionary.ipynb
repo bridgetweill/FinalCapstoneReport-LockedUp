{
 "cells": [
  {
   "cell_type": "markdown",
   "metadata": {},
   "source": [
    "# Data Dictionary\n",
    "_Locked Up_ - Bridget Weill - Fairfield University - MSBA Capstone Project\n",
    "\n",
    "------------------"
   ]
  },
  {
   "cell_type": "markdown",
   "metadata": {},
   "source": [
    "### **Dataset:**\n",
    "\n",
    "**Survey of Inmates in State and Federal Correctional Facilities, [United States], 2004**\n",
    "*United States Bureau of Justice*\n",
    "\n",
    "The dataset can be found & downloaded through the following link: [2004 Federal Inmate Survey Dataset](https://www.icpsr.umich.edu/web/NACJD/studies/4572)\n",
    "\n",
    "\n",
    "**Dataset Info:**\n",
    "- 3,474 sessions (rows)\n",
    "- 26 attributes (columns) \n",
    "\n",
    "Each session (row) of this dataset represents a different prisoner. The attributes (columns) contain each prisoners responses to the survey questions."
   ]
  },
  {
   "cell_type": "markdown",
   "metadata": {},
   "source": [
    "| Field Name| Type | Definition |\n",
    "| ------------ | ---------- | ---------- | \n",
    "| Sex | Categorical (Text) | Gender (Male or Female) |\n",
    "| Age | Continuous (Integer) | Age of the prisoner |\n",
    "| Race | Categorical (Text) | Cultural Category (Ex. White non-hispanic, Black non-hispanic, Hispanic, etc.) | \n",
    "| US Citizenship | Categorical (Text) | Is this prisoner a US Citizen? (Ex. US Citizen or Not a US Citizen) |\n",
    "| Marital Status | Categorical (Text) | Description of a person's relationship with a significant other (Ex. Married, Divorced, Never Married, Widowed, or Seperated (not because of prison)) | \n",
    "| Education | Categorical (Text) | Highest level of education completed (Ex. First Grade, Twelfth grade, One year of graduate school, etc.) |\n",
    "| Monthly income before arrest (in dollars) | Categorical (Text) | Total money received on a monthly basis from working or through investments (Ex: 1-199)| \n",
    "| Current Offense | Categorical (Text) | Current act committed by the prisoner that was harmful not only to some individual but also to a community, society, or the state | \n",
    "| Crime for drug money? | Categorical (Text) | Was the prisoners current offense committed for drug money?  | \n",
    "| Sex offender | Categorical (Text) | A person registered as someone who has committed or commits crimes involving a sexual act | \n",
    "| Status at arrest | Categorical (Text) | Any prior legal holding on the prisoner when arrested (ex: probation or parole) | \n",
    "| Weapon (Most Dangerous) | Categorical (Text) | Was anything that is designed or used for inflicting bodily harm or physical damage used during the crime, if so which was the most dangerous? | \n",
    "| Secondary Weapon | Categorical (Text) | More than 1 weapon used during the criminal act | \n",
    "| Has at least one mental disorder | Categorical (Text) | Mental disorders can vary within a wide range of conditions which affect mood, thinking, and behavior. Has this prisoner ever been diagnosed with a mental disorder?  | \n",
    "| Physically or Sexually Abused | Categorical (Text) | Cruel and violent treatment either sexually or physically upon a person | \n",
    "| Children? | Categorical (Text) | Was the site visit on the weekend? (Ex: 0,1) | \n",
    "| Who did you live with growing up? | Categorical (Text) | The person who took care of and raised you while growing up | \n",
    "| Mother been incarcerated? | Categorical (Text) | Mother has some history of being incarcerated | \n",
    "| Father been incarcerated? | Categorical (Text) | Father has some history of being incarcerated | \n",
    "| Spouse been incarcerated? | Categorical (Text) | Spouse has some history of being incarcerated | \n",
    "| Child been incarcerated? | Categorical (Text) | Child has some history of being incarcerated | \n",
    "| Brother been incarcerated? | Categorical (Text) | Brother has some history of being incarcerated | \n",
    "| Sister been incarcerated? | Categorical (Text) | Sister has some history of being incarcerated | \n",
    "| Ever used any illegal drugs? | Categorical (Text) | The use of any drug that is not prescribed by a doctor or bought at a drugstore | \n",
    "| Ever regularly drank alcohol? | Categorical (Text) | Consumed a drink that contains the recreational drug ethanol on a regular, day to day basis | \n",
    "| Criminal history | Categorical (Text) <br> *Target Variable* | If a prisoner has any prior incarcerations, they have a criminal history |\n"
   ]
  }
 ],
 "metadata": {
  "kernelspec": {
   "display_name": "Python 3",
   "language": "python",
   "name": "python3"
  },
  "language_info": {
   "codemirror_mode": {
    "name": "ipython",
    "version": 3
   },
   "file_extension": ".py",
   "mimetype": "text/x-python",
   "name": "python",
   "nbconvert_exporter": "python",
   "pygments_lexer": "ipython3",
   "version": "3.6.7"
  }
 },
 "nbformat": 4,
 "nbformat_minor": 4
}
